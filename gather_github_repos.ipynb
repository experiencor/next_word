{
 "cells": [
  {
   "cell_type": "code",
   "execution_count": 1,
   "metadata": {
    "ExecuteTime": {
     "end_time": "2020-06-21T04:49:12.687456Z",
     "start_time": "2020-06-21T04:49:12.562898Z"
    }
   },
   "outputs": [],
   "source": [
    "import requests\n",
    "import json\n",
    "import re\n",
    "import os, time\n",
    "\n",
    "repos_set = set()\n",
    "with open(\"repos.txt\") as f:\n",
    "    repos_set = set([repo for repo in f.read().split(\"\\n\") if repo.strip()])"
   ]
  },
  {
   "cell_type": "code",
   "execution_count": 2,
   "metadata": {
    "ExecuteTime": {
     "end_time": "2020-06-21T04:49:15.741255Z",
     "start_time": "2020-06-21T04:49:13.428375Z"
    }
   },
   "outputs": [],
   "source": [
    "response = requests.get(\"https://api.github.com/legacy/repos/search/python?language=Python&sort=forks&order=forks\")\n",
    "repos = json.loads(response.content)\n",
    "repos_set.update([repo[\"url\"] for repo in repos[\"repositories\"]])"
   ]
  },
  {
   "cell_type": "code",
   "execution_count": 3,
   "metadata": {
    "ExecuteTime": {
     "end_time": "2020-06-21T04:49:16.534760Z",
     "start_time": "2020-06-21T04:49:16.530278Z"
    }
   },
   "outputs": [],
   "source": [
    "with open(\"source1.md\") as f:\n",
    "    awesome_python = f.read()\n",
    "    pattern = r\"(https\\:\\/\\/github\\.com\\/)([a-zA-Z\\_\\-]){1,}(\\/)([a-zA-Z\\_\\-]){1,}\"\n",
    "    repos_set.update([awesome_python[m.start(): m.end()] \\\n",
    "                      for m in re.finditer(pattern, awesome_python)])"
   ]
  },
  {
   "cell_type": "code",
   "execution_count": 4,
   "metadata": {
    "ExecuteTime": {
     "end_time": "2020-06-21T04:49:17.300772Z",
     "start_time": "2020-06-21T04:49:17.296178Z"
    }
   },
   "outputs": [],
   "source": [
    "with open(\"source2.html\") as f:\n",
    "    awesome_python = f.read()\n",
    "    pattern = r\"(https\\:\\/\\/github\\.com\\/)([a-zA-Z\\_\\-]){1,}(\\/)([a-zA-Z\\_\\-]){1,}\"\n",
    "    repos_set.update([awesome_python[m.start(): m.end()] \\\n",
    "                      for m in re.finditer(pattern, awesome_python)])"
   ]
  },
  {
   "cell_type": "code",
   "execution_count": 5,
   "metadata": {
    "ExecuteTime": {
     "end_time": "2020-06-21T04:49:18.231717Z",
     "start_time": "2020-06-21T04:49:18.228506Z"
    }
   },
   "outputs": [],
   "source": [
    "with open(\"repos.txt\", \"w\") as f:\n",
    "    for repo in repos_set:\n",
    "        f.write(repo + \"\\n\")"
   ]
  }
 ],
 "metadata": {
  "kernelspec": {
   "display_name": "Python 3",
   "language": "python",
   "name": "python3"
  },
  "language_info": {
   "codemirror_mode": {
    "name": "ipython",
    "version": 3
   },
   "file_extension": ".py",
   "mimetype": "text/x-python",
   "name": "python",
   "nbconvert_exporter": "python",
   "pygments_lexer": "ipython3",
   "version": "3.6.7"
  },
  "toc": {
   "base_numbering": 1,
   "nav_menu": {},
   "number_sections": true,
   "sideBar": true,
   "skip_h1_title": false,
   "title_cell": "Table of Contents",
   "title_sidebar": "Contents",
   "toc_cell": false,
   "toc_position": {},
   "toc_section_display": true,
   "toc_window_display": false
  },
  "varInspector": {
   "cols": {
    "lenName": 16,
    "lenType": 16,
    "lenVar": 40
   },
   "kernels_config": {
    "python": {
     "delete_cmd_postfix": "",
     "delete_cmd_prefix": "del ",
     "library": "var_list.py",
     "varRefreshCmd": "print(var_dic_list())"
    },
    "r": {
     "delete_cmd_postfix": ") ",
     "delete_cmd_prefix": "rm(",
     "library": "var_list.r",
     "varRefreshCmd": "cat(var_dic_list()) "
    }
   },
   "types_to_exclude": [
    "module",
    "function",
    "builtin_function_or_method",
    "instance",
    "_Feature"
   ],
   "window_display": false
  }
 },
 "nbformat": 4,
 "nbformat_minor": 2
}
