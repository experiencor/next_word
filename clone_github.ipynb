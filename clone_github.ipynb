{
 "cells": [
  {
   "cell_type": "code",
   "execution_count": 2,
   "metadata": {
    "ExecuteTime": {
     "end_time": "2020-06-13T08:46:41.035136Z",
     "start_time": "2020-06-13T08:46:41.032091Z"
    }
   },
   "outputs": [],
   "source": [
    "import requests\n",
    "import json\n",
    "import os, time"
   ]
  },
  {
   "cell_type": "code",
   "execution_count": null,
   "metadata": {
    "ExecuteTime": {
     "end_time": "2020-06-13T08:05:23.576877Z",
     "start_time": "2020-06-13T08:05:21.432931Z"
    }
   },
   "outputs": [],
   "source": [
    "response = requests.get(\"https://api.github.com/legacy/repos/search/python?language=Python&sort=forks&order=forks\")\n",
    "repos = json.loads(response.content)"
   ]
  },
  {
   "cell_type": "code",
   "execution_count": 14,
   "metadata": {
    "ExecuteTime": {
     "end_time": "2020-06-13T07:56:43.050036Z",
     "start_time": "2020-06-13T07:56:42.930818Z"
    }
   },
   "outputs": [],
   "source": [
    "os.makedirs(\"data\", exist_ok=True)"
   ]
  },
  {
   "cell_type": "code",
   "execution_count": null,
   "metadata": {
    "ExecuteTime": {
     "start_time": "2020-06-13T08:07:24.031Z"
    }
   },
   "outputs": [],
   "source": [
    "for repo in repos[\"repositories\"]:\n",
    "    print(\"git clone \" + repo[\"url\"])\n",
    "    os.system(\"git clone \" + repo[\"url\"])\n",
    "    \n",
    "    print(\"mv \" + repo[\"url\"].split(\"/\")[-1] + \" data\")\n",
    "    os.system(\"mv \" + repo[\"url\"].split(\"/\")[-1] + \" data\")\n",
    "    \n",
    "    print(\"\")\n",
    "    time.sleep(1)"
   ]
  },
  {
   "cell_type": "code",
   "execution_count": 24,
   "metadata": {
    "ExecuteTime": {
     "end_time": "2020-06-13T09:01:29.320209Z",
     "start_time": "2020-06-13T09:01:29.046845Z"
    }
   },
   "outputs": [],
   "source": [
    "import numpy as np\n",
    "\n",
    "python_files = [os.path.join(dp, f) for dp, dn, filenames in os.walk(\"data\") \\\n",
    "                for f in filenames if os.path.splitext(f)[1] == '.py']\n",
    "np.random.shuffle(python_files)\n",
    "\n",
    "train_files = python_files[:int(len(python_files)*0.85)]\n",
    "eval_files = python_files[int(len(python_files)*0.85):int(len(python_files)*0.95)]\n",
    "test_files = python_files[int(len(python_files)*0.95):]\n",
    "\n",
    "def make_data_file(ifiles, ofile):\n",
    "    with open(ofile, \"w\") as of:\n",
    "        for ifile in ifiles:\n",
    "            with open(ifile) as f:\n",
    "                of.write(f.read())\n",
    "\n",
    "make_data_file(train_files, \"train.txt\")\n",
    "make_data_file(eval_files, \"eval.txt\")\n",
    "make_data_file(test_files, \"test.txt\")"
   ]
  }
 ],
 "metadata": {
  "kernelspec": {
   "display_name": "Python 3",
   "language": "python",
   "name": "python3"
  },
  "language_info": {
   "codemirror_mode": {
    "name": "ipython",
    "version": 3
   },
   "file_extension": ".py",
   "mimetype": "text/x-python",
   "name": "python",
   "nbconvert_exporter": "python",
   "pygments_lexer": "ipython3",
   "version": "3.6.7"
  },
  "toc": {
   "base_numbering": 1,
   "nav_menu": {},
   "number_sections": true,
   "sideBar": true,
   "skip_h1_title": false,
   "title_cell": "Table of Contents",
   "title_sidebar": "Contents",
   "toc_cell": false,
   "toc_position": {},
   "toc_section_display": true,
   "toc_window_display": false
  },
  "varInspector": {
   "cols": {
    "lenName": 16,
    "lenType": 16,
    "lenVar": 40
   },
   "kernels_config": {
    "python": {
     "delete_cmd_postfix": "",
     "delete_cmd_prefix": "del ",
     "library": "var_list.py",
     "varRefreshCmd": "print(var_dic_list())"
    },
    "r": {
     "delete_cmd_postfix": ") ",
     "delete_cmd_prefix": "rm(",
     "library": "var_list.r",
     "varRefreshCmd": "cat(var_dic_list()) "
    }
   },
   "types_to_exclude": [
    "module",
    "function",
    "builtin_function_or_method",
    "instance",
    "_Feature"
   ],
   "window_display": false
  }
 },
 "nbformat": 4,
 "nbformat_minor": 2
}
